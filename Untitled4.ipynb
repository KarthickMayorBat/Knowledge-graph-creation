{
 "cells": [
  {
   "cell_type": "code",
   "execution_count": 8,
   "id": "headed-accounting",
   "metadata": {},
   "outputs": [
    {
     "data": {
      "text/plain": [
       "('CARDINAL',\n",
       " 'DATE',\n",
       " 'EVENT',\n",
       " 'FAC',\n",
       " 'GPE',\n",
       " 'LANGUAGE',\n",
       " 'LAW',\n",
       " 'LOC',\n",
       " 'MONEY',\n",
       " 'NORP',\n",
       " 'ORDINAL',\n",
       " 'ORG',\n",
       " 'PERCENT',\n",
       " 'PERSON',\n",
       " 'PRODUCT',\n",
       " 'QUANTITY',\n",
       " 'TIME',\n",
       " 'WORK_OF_ART')"
      ]
     },
     "execution_count": 8,
     "metadata": {},
     "output_type": "execute_result"
    }
   ],
   "source": [
    "import spacy\n",
    "nlp = spacy.load(\"en_core_web_sm\")\n",
    "nlp.get_pipe(\"ner\").labels"
   ]
  },
  {
   "cell_type": "code",
   "execution_count": 9,
   "id": "moderate-logging",
   "metadata": {},
   "outputs": [],
   "source": [
    "sen1 = \"Early indicators from South Africa suggest the Omicron wave may be milder. Two weeks since the emergence of the Omicron variant in the Gauteng province of South Africa. it appears that the variant is linked to a smaller proportion of deaths than previous waves of the SARS-CoV-2 coronavirus  according to an analysis of patient records by researchers at the South African Medical Research Council (SAMRC).\""
   ]
  },
  {
   "cell_type": "code",
   "execution_count": 10,
   "id": "packed-atlanta",
   "metadata": {},
   "outputs": [],
   "source": [
    "text1= nlp(sen1)"
   ]
  },
  {
   "cell_type": "code",
   "execution_count": 11,
   "id": "smart-hebrew",
   "metadata": {},
   "outputs": [
    {
     "name": "stdout",
     "output_type": "stream",
     "text": [
      "South Africa GPE\n",
      "Omicron ORG\n",
      "Two weeks DATE\n",
      "Omicron ORG\n",
      "Gauteng GPE\n",
      "South Africa GPE\n",
      "the South African Medical Research Council FAC\n"
     ]
    }
   ],
   "source": [
    "for word in text1.ents:\n",
    "    print(word.text,word.label_)"
   ]
  },
  {
   "cell_type": "code",
   "execution_count": 5,
   "id": "upset-vampire",
   "metadata": {},
   "outputs": [],
   "source": []
  },
  {
   "cell_type": "code",
   "execution_count": 6,
   "id": "finite-electron",
   "metadata": {},
   "outputs": [],
   "source": []
  },
  {
   "cell_type": "code",
   "execution_count": 7,
   "id": "assisted-elizabeth",
   "metadata": {},
   "outputs": [
    {
     "name": "stdout",
     "output_type": "stream",
     "text": [
      "Amazon ORG\n",
      "thousands CARDINAL\n",
      "U.S GPE\n",
      "Amazon.com Inc ORG\n",
      "Prime Video ORG\n",
      "Amazon Web Services ORG\n",
      "thousands CARDINAL\n",
      "the United States GPE\n",
      "December 7 DATE\n"
     ]
    }
   ],
   "source": []
  },
  {
   "cell_type": "code",
   "execution_count": 14,
   "id": "outdoor-titanium",
   "metadata": {},
   "outputs": [],
   "source": []
  },
  {
   "cell_type": "code",
   "execution_count": 15,
   "id": "eight-necklace",
   "metadata": {},
   "outputs": [],
   "source": [
    "text3= nlp(sen3)"
   ]
  },
  {
   "cell_type": "code",
   "execution_count": 18,
   "id": "altered-security",
   "metadata": {},
   "outputs": [
    {
     "name": "stdout",
     "output_type": "stream",
     "text": [
      "Ravi Shastri PERSON\n",
      "Gavaskar PERSON\n",
      "Tendulkar ORG\n",
      "Virat GPE\n",
      "'100 percent PERCENT\n",
      "Kohli PERSON\n",
      "India GPE\n",
      "India GPE\n",
      "Sunil GPE\n"
     ]
    }
   ],
   "source": [
    "for word in text3.ents:\n",
    "    print(word.text,word.label_)"
   ]
  },
  {
   "cell_type": "code",
   "execution_count": 19,
   "id": "conservative-stream",
   "metadata": {},
   "outputs": [],
   "source": [
    "sen4 = \"India unseats Brazil to become top food supplier to  Arab nations after 15 years. India surpassed Brazil in food exports to the League of Arab States for the first time in 15 years as the Covid-19 pandemic disrupted trade flows in 2020, according to data provided by the Arab-Brazil Chamber of Commerce to Reuters on Tuesday.\""
   ]
  },
  {
   "cell_type": "code",
   "execution_count": 20,
   "id": "frequent-anderson",
   "metadata": {},
   "outputs": [],
   "source": [
    "text4= nlp(sen4)"
   ]
  },
  {
   "cell_type": "code",
   "execution_count": 21,
   "id": "annoying-parish",
   "metadata": {},
   "outputs": [
    {
     "name": "stdout",
     "output_type": "stream",
     "text": [
      "India GPE\n",
      "Brazil GPE\n",
      "Arab NORP\n",
      "15 years DATE\n",
      "India GPE\n",
      "Brazil GPE\n",
      "the League of Arab States ORG\n",
      "first ORDINAL\n",
      "15 years DATE\n",
      "2020 DATE\n",
      "Arab NORP\n",
      "Reuters ORG\n",
      "Tuesday DATE\n"
     ]
    }
   ],
   "source": [
    "for word in text4.ents:\n",
    "    print(word.text,word.label_)"
   ]
  },
  {
   "cell_type": "code",
   "execution_count": 22,
   "id": "appropriate-inclusion",
   "metadata": {},
   "outputs": [],
   "source": [
    "sen5 = \"Ashes: Mitchell Starc  a wicket-taking machine, says Ricky Ponting as pacer proves naysayers wrong at Gabba. Mitchell Starc picked up a wicket in the first over of a Test innings for the 13th time in his career as he led the way for Australia to run through England's batting order on Day 1 of the 1st  Test at the Gabba on Wednesday.\""
   ]
  },
  {
   "cell_type": "code",
   "execution_count": 23,
   "id": "virtual-prisoner",
   "metadata": {},
   "outputs": [],
   "source": [
    "text5= nlp(sen5)"
   ]
  },
  {
   "cell_type": "code",
   "execution_count": 24,
   "id": "pending-nightmare",
   "metadata": {},
   "outputs": [
    {
     "name": "stdout",
     "output_type": "stream",
     "text": [
      "Mitchell Starc PERSON\n",
      "Ricky Ponting PERSON\n",
      "Gabba GPE\n",
      "Mitchell Starc PERSON\n",
      "first ORDINAL\n",
      "Australia GPE\n",
      "England GPE\n",
      "Day 1 of the 1st DATE\n",
      "Gabba GPE\n",
      "Wednesday DATE\n"
     ]
    }
   ],
   "source": [
    "for word in text5.ents:\n",
    "    print(word.text,word.label_)"
   ]
  },
  {
   "cell_type": "code",
   "execution_count": 25,
   "id": "verbal-proposal",
   "metadata": {},
   "outputs": [],
   "source": [
    "sen6 = \"18-yr-old girl escapes death by inches after 10-foot crocodile attacks her. An 18-year-old girl from the UK got a new lease on her life after she survived a savage attack by a 10-foot-long crocodile while whitewater rafting in Zambia. The teenager named Amelie Osborn-Smith escaped death by inches in Livingstone, Zambia and was evacuated to Medland Hospital for treatment. A video shared by the hospital in which Amelie detailed her shocking encounter has now gone viral on the internet.\""
   ]
  },
  {
   "cell_type": "code",
   "execution_count": 27,
   "id": "covered-hawaiian",
   "metadata": {},
   "outputs": [],
   "source": [
    "text6= nlp(sen6)"
   ]
  },
  {
   "cell_type": "code",
   "execution_count": 28,
   "id": "sufficient-subsection",
   "metadata": {},
   "outputs": [
    {
     "name": "stdout",
     "output_type": "stream",
     "text": [
      "18 CARDINAL\n",
      "10-foot QUANTITY\n",
      "18-year-old DATE\n",
      "UK GPE\n",
      "10-foot QUANTITY\n",
      "Zambia GPE\n",
      "Amelie Osborn-Smith PERSON\n",
      "Livingstone GPE\n",
      "Zambia GPE\n",
      "Medland Hospital ORG\n",
      "Amelie GPE\n"
     ]
    }
   ],
   "source": [
    "for word in text6.ents:\n",
    "    print(word.text,word.label_)"
   ]
  },
  {
   "cell_type": "code",
   "execution_count": 29,
   "id": "macro-orange",
   "metadata": {},
   "outputs": [],
   "source": [
    "sen7 =\"Apple may launch 3 new Apple Watch  models, AirPods Pro 2 next year. Next year, Apple is said to launch a rugged model of its smartwatch, the Apple Watch, that could debut alongside the Apple Watch Series 8 and Apple Watch SE. 2022 could be the year when Apple goes aggressive with its Apple Watch range if the latest report from analyst Ming-Chi Kuo is believed.\""
   ]
  },
  {
   "cell_type": "code",
   "execution_count": 30,
   "id": "changed-course",
   "metadata": {},
   "outputs": [],
   "source": [
    "text7= nlp(sen7)"
   ]
  },
  {
   "cell_type": "code",
   "execution_count": 32,
   "id": "worthy-agency",
   "metadata": {},
   "outputs": [
    {
     "name": "stdout",
     "output_type": "stream",
     "text": [
      "Apple ORG\n",
      "3 CARDINAL\n",
      "Apple Watch ORG\n",
      "2 next year DATE\n",
      "Next year DATE\n",
      "Apple ORG\n",
      "the Apple Watch ORG\n",
      "the Apple Watch Series LAW\n",
      "8 CARDINAL\n",
      "Apple Watch SE ORG\n",
      "2022 DATE\n",
      "the year DATE\n",
      "Apple ORG\n",
      "Apple Watch ORG\n",
      "Ming-Chi Kuo PERSON\n"
     ]
    }
   ],
   "source": [
    "for word in text7.ents:\n",
    "    print(word.text,word.label_)"
   ]
  },
  {
   "cell_type": "code",
   "execution_count": 33,
   "id": "convinced-internship",
   "metadata": {},
   "outputs": [],
   "source": [
    "sen8 = \"Who will be the first to launch a phone with Snapdragon 8 Gen 1 chip is a race that will hardly matter. Xiaomi, Realme and Motorola are racing to come up with the world's first Snapdragon 8 Gen 1 phone. Both Realme and Motorola have their phone launches scheduled for December 9.\""
   ]
  },
  {
   "cell_type": "code",
   "execution_count": 34,
   "id": "eastern-defense",
   "metadata": {},
   "outputs": [],
   "source": [
    "text8= nlp(sen8)"
   ]
  },
  {
   "cell_type": "code",
   "execution_count": 35,
   "id": "fantastic-subcommittee",
   "metadata": {},
   "outputs": [
    {
     "name": "stdout",
     "output_type": "stream",
     "text": [
      "first ORDINAL\n",
      "Xiaomi ORG\n",
      "Realme ORG\n",
      "Motorola ORG\n",
      "Realme ORG\n",
      "Motorola ORG\n",
      "December 9 DATE\n"
     ]
    }
   ],
   "source": [
    "for word in text8.ents:\n",
    "    print(word.text,word.label_)"
   ]
  },
  {
   "cell_type": "code",
   "execution_count": 36,
   "id": "several-shepherd",
   "metadata": {},
   "outputs": [],
   "source": [
    "sen9 = \"Ajith's 'Valimai' set to break the opening day box office record in Tamil Nadu. Ajith's 'Valimai' is one of the highly anticipated Indian films, and the film is locked to release on the occasion of Pongal next year .Now, the latest buzz about the film is that 'Valimai' is set to break the opening day box office record in Tamil Nadu.\""
   ]
  },
  {
   "cell_type": "code",
   "execution_count": 37,
   "id": "comprehensive-valley",
   "metadata": {},
   "outputs": [],
   "source": [
    "text9= nlp(sen9)"
   ]
  },
  {
   "cell_type": "code",
   "execution_count": 38,
   "id": "unexpected-plain",
   "metadata": {},
   "outputs": [
    {
     "name": "stdout",
     "output_type": "stream",
     "text": [
      "Ajith ORG\n",
      "Valimai WORK_OF_ART\n",
      "Tamil Nadu GPE\n",
      "Ajith ORG\n",
      "Valimai WORK_OF_ART\n",
      "one CARDINAL\n",
      "Indian NORP\n",
      "Pongal GPE\n",
      "next year DATE\n",
      "Valimai WORK_OF_ART\n",
      "Tamil Nadu GPE\n"
     ]
    }
   ],
   "source": [
    "for word in text9.ents:\n",
    "    print(word.text,word.label_)"
   ]
  },
  {
   "cell_type": "code",
   "execution_count": 39,
   "id": "median-cleaning",
   "metadata": {},
   "outputs": [],
   "source": [
    "sen10 = \"Nandamuri Balakrishna's 'Akhanda' to get a Hindi remake? Nandamuri Balakrishna starrer 'Akhanda' is one of the biggest hits of the year. The Boyapati Srinu directorial remains one of his best works till date.\""
   ]
  },
  {
   "cell_type": "code",
   "execution_count": 40,
   "id": "sixth-reproduction",
   "metadata": {},
   "outputs": [],
   "source": [
    "text10= nlp(sen10)"
   ]
  },
  {
   "cell_type": "code",
   "execution_count": 42,
   "id": "wireless-maple",
   "metadata": {},
   "outputs": [
    {
     "name": "stdout",
     "output_type": "stream",
     "text": [
      "Nandamuri Balakrishna's ' ORG\n",
      "Akhanda ORG\n",
      "Hindi NORP\n",
      "Nandamuri Balakrishna PERSON\n",
      "Akhanda PERSON\n",
      "one CARDINAL\n",
      "the year DATE\n",
      "The Boyapati Srinu ORG\n"
     ]
    }
   ],
   "source": [
    "for word in text10.ents:\n",
    "    print(word.text,word.label_)"
   ]
  },
  {
   "cell_type": "code",
   "execution_count": null,
   "id": "marked-shannon",
   "metadata": {},
   "outputs": [],
   "source": []
  }
 ],
 "metadata": {
  "kernelspec": {
   "display_name": "Python 3",
   "language": "python",
   "name": "python3"
  },
  "language_info": {
   "codemirror_mode": {
    "name": "ipython",
    "version": 3
   },
   "file_extension": ".py",
   "mimetype": "text/x-python",
   "name": "python",
   "nbconvert_exporter": "python",
   "pygments_lexer": "ipython3",
   "version": "3.8.8"
  }
 },
 "nbformat": 4,
 "nbformat_minor": 5
}
