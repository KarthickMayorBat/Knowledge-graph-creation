{
 "cells": [
  {
   "cell_type": "code",
   "execution_count": 1,
   "id": "stopped-austria",
   "metadata": {},
   "outputs": [],
   "source": [
    "import spacy"
   ]
  },
  {
   "cell_type": "code",
   "execution_count": 5,
   "id": "tribal-ticket",
   "metadata": {},
   "outputs": [
    {
     "name": "stdout",
     "output_type": "stream",
     "text": [
      "Collecting neuralcoref\n",
      "  Using cached neuralcoref-4.0.tar.gz (368 kB)\n",
      "Requirement already satisfied: numpy>=1.15.0 in c:\\users\\prath\\anaconda3\\lib\\site-packages (from neuralcoref) (1.19.5)\n",
      "Requirement already satisfied: boto3 in c:\\users\\prath\\anaconda3\\lib\\site-packages (from neuralcoref) (1.20.20)\n",
      "Requirement already satisfied: requests<3.0.0,>=2.13.0 in c:\\users\\prath\\appdata\\roaming\\python\\python38\\site-packages (from neuralcoref) (2.25.1)\n",
      "Requirement already satisfied: spacy>=2.1.0 in c:\\users\\prath\\anaconda3\\lib\\site-packages (from neuralcoref) (3.2.0)\n",
      "Requirement already satisfied: certifi>=2017.4.17 in c:\\users\\prath\\appdata\\roaming\\python\\python38\\site-packages (from requests<3.0.0,>=2.13.0->neuralcoref) (2020.12.5)\n",
      "Requirement already satisfied: chardet<5,>=3.0.2 in c:\\users\\prath\\appdata\\roaming\\python\\python38\\site-packages (from requests<3.0.0,>=2.13.0->neuralcoref) (4.0.0)\n",
      "Requirement already satisfied: idna<3,>=2.5 in c:\\users\\prath\\appdata\\roaming\\python\\python38\\site-packages (from requests<3.0.0,>=2.13.0->neuralcoref) (2.10)\n",
      "Requirement already satisfied: urllib3<1.27,>=1.21.1 in c:\\users\\prath\\appdata\\roaming\\python\\python38\\site-packages (from requests<3.0.0,>=2.13.0->neuralcoref) (1.26.3)\n",
      "Requirement already satisfied: packaging>=20.0 in c:\\users\\prath\\appdata\\roaming\\python\\python38\\site-packages (from spacy>=2.1.0->neuralcoref) (20.9)\n",
      "Requirement already satisfied: spacy-loggers<2.0.0,>=1.0.0 in c:\\users\\prath\\anaconda3\\lib\\site-packages (from spacy>=2.1.0->neuralcoref) (1.0.1)\n",
      "Requirement already satisfied: setuptools in c:\\users\\prath\\anaconda3\\lib\\site-packages (from spacy>=2.1.0->neuralcoref) (52.0.0.post20210125)\n",
      "Requirement already satisfied: jinja2 in c:\\users\\prath\\appdata\\roaming\\python\\python38\\site-packages (from spacy>=2.1.0->neuralcoref) (2.11.3)\n",
      "Requirement already satisfied: pathy>=0.3.5 in c:\\users\\prath\\anaconda3\\lib\\site-packages (from spacy>=2.1.0->neuralcoref) (0.6.1)\n",
      "Requirement already satisfied: spacy-legacy<3.1.0,>=3.0.8 in c:\\users\\prath\\anaconda3\\lib\\site-packages (from spacy>=2.1.0->neuralcoref) (3.0.8)\n",
      "Requirement already satisfied: catalogue<2.1.0,>=2.0.6 in c:\\users\\prath\\anaconda3\\lib\\site-packages (from spacy>=2.1.0->neuralcoref) (2.0.6)\n",
      "Requirement already satisfied: srsly<3.0.0,>=2.4.1 in c:\\users\\prath\\anaconda3\\lib\\site-packages (from spacy>=2.1.0->neuralcoref) (2.4.2)\n",
      "Requirement already satisfied: murmurhash<1.1.0,>=0.28.0 in c:\\users\\prath\\anaconda3\\lib\\site-packages (from spacy>=2.1.0->neuralcoref) (1.0.6)\n",
      "Requirement already satisfied: langcodes<4.0.0,>=3.2.0 in c:\\users\\prath\\anaconda3\\lib\\site-packages (from spacy>=2.1.0->neuralcoref) (3.3.0)Note: you may need to restart the kernel to use updated packages.\n"
     ]
    },
    {
     "name": "stderr",
     "output_type": "stream",
     "text": [
      "    ERROR: Command errored out with exit status 1:\n",
      "     command: 'C:\\Users\\prath\\anaconda3\\python.exe' -u -c 'import sys, setuptools, tokenize; sys.argv[0] = '\"'\"'C:\\\\Users\\\\prath\\\\AppData\\\\Local\\\\Temp\\\\pip-install-b1u73_og\\\\neuralcoref_d1dff6cc6c354cc3825495c2d23b9ec6\\\\setup.py'\"'\"'; __file__='\"'\"'C:\\\\Users\\\\prath\\\\AppData\\\\Local\\\\Temp\\\\pip-install-b1u73_og\\\\neuralcoref_d1dff6cc6c354cc3825495c2d23b9ec6\\\\setup.py'\"'\"';f=getattr(tokenize, '\"'\"'open'\"'\"', open)(__file__);code=f.read().replace('\"'\"'\\r\\n'\"'\"', '\"'\"'\\n'\"'\"');f.close();exec(compile(code, __file__, '\"'\"'exec'\"'\"'))' install --record 'C:\\Users\\prath\\AppData\\Local\\Temp\\pip-record-eb7k5z2d\\install-record.txt' --single-version-externally-managed --compile --install-headers 'C:\\Users\\prath\\anaconda3\\Include\\neuralcoref'\n",
      "         cwd: C:\\Users\\prath\\AppData\\Local\\Temp\\pip-install-b1u73_og\\neuralcoref_d1dff6cc6c354cc3825495c2d23b9ec6\\\n",
      "    Complete output (31 lines):\n",
      "    running install\n",
      "    running build\n",
      "    running build_py\n",
      "    creating build\n",
      "    creating build\\lib.win-amd64-3.8\n",
      "    creating build\\lib.win-amd64-3.8\\neuralcoref\n",
      "    copying neuralcoref\\file_utils.py -> build\\lib.win-amd64-3.8\\neuralcoref\n",
      "    copying neuralcoref\\__init__.py -> build\\lib.win-amd64-3.8\\neuralcoref\n",
      "    creating build\\lib.win-amd64-3.8\\neuralcoref\\tests\n",
      "    copying neuralcoref\\tests\\test_neuralcoref.py -> build\\lib.win-amd64-3.8\\neuralcoref\\tests\n",
      "    copying neuralcoref\\tests\\__init__.py -> build\\lib.win-amd64-3.8\\neuralcoref\\tests\n",
      "    creating build\\lib.win-amd64-3.8\\neuralcoref\\train\n",
      "    copying neuralcoref\\train\\algorithm.py -> build\\lib.win-amd64-3.8\\neuralcoref\\train\n",
      "    copying neuralcoref\\train\\compat.py -> build\\lib.win-amd64-3.8\\neuralcoref\\train\n",
      "    copying neuralcoref\\train\\conllparser.py -> build\\lib.win-amd64-3.8\\neuralcoref\\train\n",
      "    copying neuralcoref\\train\\dataset.py -> build\\lib.win-amd64-3.8\\neuralcoref\\train\n",
      "    copying neuralcoref\\train\\document.py -> build\\lib.win-amd64-3.8\\neuralcoref\\train\n",
      "    copying neuralcoref\\train\\evaluator.py -> build\\lib.win-amd64-3.8\\neuralcoref\\train\n",
      "    copying neuralcoref\\train\\learn.py -> build\\lib.win-amd64-3.8\\neuralcoref\\train\n",
      "    copying neuralcoref\\train\\model.py -> build\\lib.win-amd64-3.8\\neuralcoref\\train\n",
      "    copying neuralcoref\\train\\utils.py -> build\\lib.win-amd64-3.8\\neuralcoref\\train\n",
      "    copying neuralcoref\\train\\__init__.py -> build\\lib.win-amd64-3.8\\neuralcoref\\train\n",
      "    running build_ext\n",
      "    building 'neuralcoref.neuralcoref' extension\n",
      "    creating build\\temp.win-amd64-3.8\n",
      "    creating build\\temp.win-amd64-3.8\\Release\n",
      "    creating build\\temp.win-amd64-3.8\\Release\\neuralcoref"
     ]
    },
    {
     "name": "stdout",
     "output_type": "stream",
     "text": [
      "\n",
      "Requirement already satisfied: blis<0.8.0,>=0.4.0 in c:\\users\\prath\\anaconda3\\lib\\site-packages (from spacy>=2.1.0->neuralcoref) (0.7.5)\n",
      "Requirement already satisfied: thinc<8.1.0,>=8.0.12 in c:\\users\\prath\\anaconda3\\lib\\site-packages (from spacy>=2.1.0->neuralcoref) (8.0.13)\n",
      "Requirement already satisfied: tqdm<5.0.0,>=4.38.0 in c:\\users\\prath\\anaconda3\\lib\\site-packages (from spacy>=2.1.0->neuralcoref) (4.59.0)\n",
      "Requirement already satisfied: wasabi<1.1.0,>=0.8.1 in c:\\users\\prath\\anaconda3\\lib\\site-packages (from spacy>=2.1.0->neuralcoref) (0.8.2)\n",
      "Requirement already satisfied: cymem<2.1.0,>=2.0.2 in c:\\users\\prath\\anaconda3\\lib\\site-packages (from spacy>=2.1.0->neuralcoref) (2.0.6)\n",
      "Requirement already satisfied: pydantic!=1.8,!=1.8.1,<1.9.0,>=1.7.4 in c:\\users\\prath\\anaconda3\\lib\\site-packages (from spacy>=2.1.0->neuralcoref) (1.8.2)\n",
      "Requirement already satisfied: preshed<3.1.0,>=3.0.2 in c:\\users\\prath\\anaconda3\\lib\\site-packages (from spacy>=2.1.0->neuralcoref) (3.0.6)\n",
      "Requirement already satisfied: typer<0.5.0,>=0.3.0 in c:\\users\\prath\\anaconda3\\lib\\site-packages (from spacy>=2.1.0->neuralcoref) (0.4.0)\n",
      "Requirement already satisfied: pyparsing>=2.0.2 in c:\\users\\prath\\anaconda3\\lib\\site-packages (from packaging>=20.0->spacy>=2.1.0->neuralcoref) (2.4.7)\n",
      "Requirement already satisfied: smart-open<6.0.0,>=5.0.0 in c:\\users\\prath\\anaconda3\\lib\\site-packages (from pathy>=0.3.5->spacy>=2.1.0->neuralcoref) (5.2.1)\n",
      "Requirement already satisfied: typing-extensions>=3.7.4.3 in c:\\users\\prath\\anaconda3\\lib\\site-packages (from pydantic!=1.8,!=1.8.1,<1.9.0,>=1.7.4->spacy>=2.1.0->neuralcoref) (3.7.4.3)\n",
      "Requirement already satisfied: click<9.0.0,>=7.1.1 in c:\\users\\prath\\anaconda3\\lib\\site-packages (from typer<0.5.0,>=0.3.0->spacy>=2.1.0->neuralcoref) (7.1.2)\n",
      "Requirement already satisfied: s3transfer<0.6.0,>=0.5.0 in c:\\users\\prath\\anaconda3\\lib\\site-packages (from boto3->neuralcoref) (0.5.0)\n",
      "Requirement already satisfied: botocore<1.24.0,>=1.23.20 in c:\\users\\prath\\anaconda3\\lib\\site-packages (from boto3->neuralcoref) (1.23.20)\n",
      "Requirement already satisfied: jmespath<1.0.0,>=0.7.1 in c:\\users\\prath\\anaconda3\\lib\\site-packages (from boto3->neuralcoref) (0.10.0)\n",
      "Requirement already satisfied: python-dateutil<3.0.0,>=2.1 in c:\\users\\prath\\anaconda3\\lib\\site-packages (from botocore<1.24.0,>=1.23.20->boto3->neuralcoref) (2.8.1)\n",
      "Requirement already satisfied: six>=1.5 in c:\\users\\prath\\anaconda3\\lib\\site-packages (from python-dateutil<3.0.0,>=2.1->botocore<1.24.0,>=1.23.20->boto3->neuralcoref) (1.15.0)\n",
      "Requirement already satisfied: MarkupSafe>=0.23 in c:\\users\\prath\\appdata\\roaming\\python\\python38\\site-packages (from jinja2->spacy>=2.1.0->neuralcoref) (1.1.1)\n",
      "Skipping wheel build for neuralcoref, due to binaries being disabled for it.\n",
      "Installing collected packages: neuralcoref\n",
      "    Running setup.py install for neuralcoref: started\n",
      "    Running setup.py install for neuralcoref: finished with status 'error'\n"
     ]
    },
    {
     "name": "stderr",
     "output_type": "stream",
     "text": [
      "\n",
      "    C:\\Program Files (x86)\\Microsoft Visual Studio 14.0\\VC\\BIN\\x86_amd64\\cl.exe /c /nologo /Ox /W3 /GL /DNDEBUG /MD -IC:\\Users\\prath\\anaconda3\\include -IC:\\Users\\prath\\AppData\\Local\\Temp\\pip-install-b1u73_og\\neuralcoref_d1dff6cc6c354cc3825495c2d23b9ec6\\include -IC:\\Users\\prath\\anaconda3\\include -IC:\\Users\\prath\\anaconda3\\include \"-IC:\\Program Files (x86)\\Microsoft Visual Studio 14.0\\VC\\INCLUDE\" \"-IC:\\Program Files (x86)\\Microsoft Visual Studio 14.0\\VC\\ATLMFC\\INCLUDE\" \"-IC:\\Program Files (x86)\\Windows Kits\\10\\include\\10.0.10240.0\\ucrt\" /EHsc /Tpneuralcoref/neuralcoref.cpp /Fobuild\\temp.win-amd64-3.8\\Release\\neuralcoref/neuralcoref.obj /Ox /EHsc\n",
      "    neuralcoref.cpp\n",
      "    c:\\users\\prath\\anaconda3\\include\\pyconfig.h(205): fatal error C1083: Cannot open include file: 'basetsd.h': No such file or directory\n",
      "    error: command 'C:\\\\Program Files (x86)\\\\Microsoft Visual Studio 14.0\\\\VC\\\\BIN\\\\x86_amd64\\\\cl.exe' failed with exit status 2\n",
      "    ----------------------------------------\n",
      "ERROR: Command errored out with exit status 1: 'C:\\Users\\prath\\anaconda3\\python.exe' -u -c 'import sys, setuptools, tokenize; sys.argv[0] = '\"'\"'C:\\\\Users\\\\prath\\\\AppData\\\\Local\\\\Temp\\\\pip-install-b1u73_og\\\\neuralcoref_d1dff6cc6c354cc3825495c2d23b9ec6\\\\setup.py'\"'\"'; __file__='\"'\"'C:\\\\Users\\\\prath\\\\AppData\\\\Local\\\\Temp\\\\pip-install-b1u73_og\\\\neuralcoref_d1dff6cc6c354cc3825495c2d23b9ec6\\\\setup.py'\"'\"';f=getattr(tokenize, '\"'\"'open'\"'\"', open)(__file__);code=f.read().replace('\"'\"'\\r\\n'\"'\"', '\"'\"'\\n'\"'\"');f.close();exec(compile(code, __file__, '\"'\"'exec'\"'\"'))' install --record 'C:\\Users\\prath\\AppData\\Local\\Temp\\pip-record-eb7k5z2d\\install-record.txt' --single-version-externally-managed --compile --install-headers 'C:\\Users\\prath\\anaconda3\\Include\\neuralcoref' Check the logs for full command output.\n"
     ]
    }
   ],
   "source": [
    "pip install neuralcoref --no-binary neuralcoref"
   ]
  },
  {
   "cell_type": "code",
   "execution_count": null,
   "id": "fatal-chocolate",
   "metadata": {},
   "outputs": [],
   "source": []
  }
 ],
 "metadata": {
  "kernelspec": {
   "display_name": "Python 3",
   "language": "python",
   "name": "python3"
  },
  "language_info": {
   "codemirror_mode": {
    "name": "ipython",
    "version": 3
   },
   "file_extension": ".py",
   "mimetype": "text/x-python",
   "name": "python",
   "nbconvert_exporter": "python",
   "pygments_lexer": "ipython3",
   "version": "3.8.8"
  }
 },
 "nbformat": 4,
 "nbformat_minor": 5
}
