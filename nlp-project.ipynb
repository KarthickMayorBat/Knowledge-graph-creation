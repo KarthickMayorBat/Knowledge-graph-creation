{
 "cells": [
  {
   "cell_type": "code",
   "execution_count": 1,
   "id": "7c9acabb",
   "metadata": {
    "_cell_guid": "b1076dfc-b9ad-4769-8c92-a6c4dae69d19",
    "_uuid": "8f2839f25d086af736a60e9eeb907d3b93b6e0e5",
    "execution": {
     "iopub.execute_input": "2021-12-05T07:32:21.559821Z",
     "iopub.status.busy": "2021-12-05T07:32:21.558958Z",
     "iopub.status.idle": "2021-12-05T07:32:21.563513Z",
     "shell.execute_reply": "2021-12-05T07:32:21.562834Z",
     "shell.execute_reply.started": "2021-12-05T06:51:55.046065Z"
    },
    "papermill": {
     "duration": 0.030404,
     "end_time": "2021-12-05T07:32:21.563678",
     "exception": false,
     "start_time": "2021-12-05T07:32:21.533274",
     "status": "completed"
    },
    "tags": []
   },
   "outputs": [],
   "source": [
    "import numpy as np # linear algebra\n",
    "import pandas as pd # data processing, CSV file I/O (e.g. pd.read_csv)\n",
    "from tqdm import tqdm_notebook"
   ]
  },
  {
   "cell_type": "code",
   "execution_count": 2,
   "id": "3421485a",
   "metadata": {
    "execution": {
     "iopub.execute_input": "2021-12-05T07:32:21.595923Z",
     "iopub.status.busy": "2021-12-05T07:32:21.595302Z",
     "iopub.status.idle": "2021-12-05T07:32:21.598217Z",
     "shell.execute_reply": "2021-12-05T07:32:21.597569Z",
     "shell.execute_reply.started": "2021-12-05T06:51:55.062855Z"
    },
    "papermill": {
     "duration": 0.021076,
     "end_time": "2021-12-05T07:32:21.598357",
     "exception": false,
     "start_time": "2021-12-05T07:32:21.577281",
     "status": "completed"
    },
    "tags": []
   },
   "outputs": [],
   "source": [
    "MODEL_URL = \"https://github.com/huggingface/neuralcoref-models/releases/\" \\\n",
    "            \"download/en_coref_md-3.0.0/en_coref_md-3.0.0.tar.gz\""
   ]
  },
  {
   "cell_type": "code",
   "execution_count": 3,
   "id": "cf567044",
   "metadata": {
    "execution": {
     "iopub.execute_input": "2021-12-05T07:32:21.630566Z",
     "iopub.status.busy": "2021-12-05T07:32:21.629889Z",
     "iopub.status.idle": "2021-12-05T07:40:15.139194Z",
     "shell.execute_reply": "2021-12-05T07:40:15.139772Z",
     "shell.execute_reply.started": "2021-12-05T06:51:55.074599Z"
    },
    "papermill": {
     "duration": 473.528811,
     "end_time": "2021-12-05T07:40:15.140226",
     "exception": false,
     "start_time": "2021-12-05T07:32:21.611415",
     "status": "completed"
    },
    "tags": []
   },
   "outputs": [
    {
     "name": "stdout",
     "output_type": "stream",
     "text": [
      "Collecting spacy==2.0.12\r\n",
      "  Downloading spacy-2.0.12.tar.gz (22.0 MB)\r\n",
      "     |████████████████████████████████| 22.0 MB 757 kB/s            \r\n",
      "\u001b[?25h  Preparing metadata (setup.py) ... \u001b[?25l-\b \bdone\r\n",
      "\u001b[?25hRequirement already satisfied: numpy>=1.7 in /opt/conda/lib/python3.7/site-packages (from spacy==2.0.12) (1.19.5)\r\n",
      "Collecting murmurhash<0.29,>=0.28\r\n",
      "  Downloading murmurhash-0.28.0.tar.gz (23 kB)\r\n",
      "  Preparing metadata (setup.py) ... \u001b[?25l-\b \bdone\r\n",
      "\u001b[?25hCollecting cymem<1.32,>=1.30\r\n",
      "  Downloading cymem-1.31.2.tar.gz (33 kB)\r\n",
      "  Preparing metadata (setup.py) ... \u001b[?25l-\b \bdone\r\n",
      "\u001b[?25hCollecting preshed<2.0.0,>=1.0.0\r\n",
      "  Downloading preshed-1.0.1-cp37-cp37m-manylinux1_x86_64.whl (79 kB)\r\n",
      "     |████████████████████████████████| 79 kB 5.7 MB/s             \r\n",
      "\u001b[?25hCollecting thinc<6.11.0,>=6.10.3\r\n",
      "  Downloading thinc-6.10.3.tar.gz (1.2 MB)\r\n",
      "     |████████████████████████████████| 1.2 MB 54.7 MB/s            \r\n",
      "\u001b[?25h  Preparing metadata (setup.py) ... \u001b[?25l-\b \bdone\r\n",
      "\u001b[?25hCollecting plac<1.0.0,>=0.9.6\r\n",
      "  Downloading plac-0.9.6-py2.py3-none-any.whl (20 kB)\r\n",
      "Requirement already satisfied: ujson>=1.35 in /opt/conda/lib/python3.7/site-packages (from spacy==2.0.12) (4.2.0)\r\n",
      "Collecting dill<0.3,>=0.2\r\n",
      "  Downloading dill-0.2.9.tar.gz (150 kB)\r\n",
      "     |████████████████████████████████| 150 kB 69.0 MB/s            \r\n",
      "\u001b[?25h  Preparing metadata (setup.py) ... \u001b[?25l-\b \bdone\r\n",
      "\u001b[?25hCollecting regex==2017.4.5\r\n",
      "  Downloading regex-2017.04.05.tar.gz (601 kB)\r\n",
      "     |████████████████████████████████| 601 kB 58.6 MB/s            \r\n",
      "\u001b[?25h  Preparing metadata (setup.py) ... \u001b[?25l-\b \b\\\b \bdone\r\n",
      "\u001b[?25hRequirement already satisfied: requests<3.0.0,>=2.13.0 in /opt/conda/lib/python3.7/site-packages (from spacy==2.0.12) (2.25.1)\r\n",
      "Requirement already satisfied: idna<3,>=2.5 in /opt/conda/lib/python3.7/site-packages (from requests<3.0.0,>=2.13.0->spacy==2.0.12) (2.10)\r\n",
      "Requirement already satisfied: chardet<5,>=3.0.2 in /opt/conda/lib/python3.7/site-packages (from requests<3.0.0,>=2.13.0->spacy==2.0.12) (4.0.0)\r\n",
      "Requirement already satisfied: certifi>=2017.4.17 in /opt/conda/lib/python3.7/site-packages (from requests<3.0.0,>=2.13.0->spacy==2.0.12) (2021.10.8)\r\n",
      "Requirement already satisfied: urllib3<1.27,>=1.21.1 in /opt/conda/lib/python3.7/site-packages (from requests<3.0.0,>=2.13.0->spacy==2.0.12) (1.26.7)\r\n",
      "Collecting msgpack<1.0.0,>=0.5.6\r\n",
      "  Downloading msgpack-0.6.2-cp37-cp37m-manylinux1_x86_64.whl (243 kB)\r\n",
      "     |████████████████████████████████| 243 kB 62.3 MB/s            \r\n",
      "\u001b[?25hRequirement already satisfied: msgpack-numpy<1.0.0,>=0.4.1 in /opt/conda/lib/python3.7/site-packages (from thinc<6.11.0,>=6.10.3->spacy==2.0.12) (0.4.7.1)\r\n",
      "Collecting cytoolz<0.10,>=0.9.0\r\n",
      "  Downloading cytoolz-0.9.0.1.tar.gz (443 kB)\r\n",
      "     |████████████████████████████████| 443 kB 52.7 MB/s            \r\n",
      "\u001b[?25h  Preparing metadata (setup.py) ... \u001b[?25l-\b \bdone\r\n",
      "\u001b[?25hCollecting wrapt<1.11.0,>=1.10.0\r\n",
      "  Downloading wrapt-1.10.11.tar.gz (27 kB)\r\n",
      "  Preparing metadata (setup.py) ... \u001b[?25l-\b \bdone\r\n",
      "\u001b[?25hRequirement already satisfied: tqdm<5.0.0,>=4.10.0 in /opt/conda/lib/python3.7/site-packages (from thinc<6.11.0,>=6.10.3->spacy==2.0.12) (4.62.3)\r\n",
      "Requirement already satisfied: six<2.0.0,>=1.10.0 in /opt/conda/lib/python3.7/site-packages (from thinc<6.11.0,>=6.10.3->spacy==2.0.12) (1.16.0)\r\n",
      "Requirement already satisfied: toolz>=0.8.0 in /opt/conda/lib/python3.7/site-packages (from cytoolz<0.10,>=0.9.0->thinc<6.11.0,>=6.10.3->spacy==2.0.12) (0.11.2)\r\n",
      "Building wheels for collected packages: spacy, regex, cymem, dill, murmurhash, thinc, cytoolz, wrapt\r\n",
      "  Building wheel for spacy (setup.py) ... \u001b[?25l-\b \b\\\b \b|\b \b/\b \b-\b \b\\\b \b|\b \b/\b \b-\b \b\\\b \b|\b \b/\b \b-\b \b\\\b \b|\b \b/\b \b-\b \b\\\b \b|\b \b/\b \b-\b \b\\\b \b|\b \b/\b \b-\b \b\\\b \b|\b \b/\b \b-\b \b\\\b \b|\b \b/\b \b-\b \b\\\b \b|\b \b/\b \b-\b \b\\\b \b|\b \b/\b \b-\b \b\\\b \b|\b \b/\b \b-\b \b\\\b \b|\b \b/\b \b-\b \b\\\b \b|\b \b/\b \b-\b \b\\\b \b|\b \b/\b \b-\b \b\\\b \b|\b \b/\b \b-\b \b\\\b \b|\b \b/\b \b-\b \b\\\b \b|\b \b/\b \b-\b \b\\\b \b|\b \b/\b \b-\b \b\\\b \b|\b \b/\b \b-\b \b\\\b \b|\b \b/\b \b-\b \b\\\b \b|\b \b/\b \b-\b \b\\\b \b|\b \b/\b \b-\b \b\\\b \b|\b \bdone\r\n",
      "\u001b[?25h  Created wheel for spacy: filename=spacy-2.0.12-cp37-cp37m-linux_x86_64.whl size=32347332 sha256=b3f7380e1e98ee05bc31a00796f6b69e2f3d0b0bb2182143b05bc004ac952844\r\n",
      "  Stored in directory: /root/.cache/pip/wheels/ed/69/44/1692fc0439f275181a07d05fb939a1b2ad482640e3b4824078\r\n",
      "  Building wheel for regex (setup.py) ... \u001b[?25l-\b \b\\\b \b|\b \b/\b \b-\b \b\\\b \b|\b \b/\b \bdone\r\n",
      "\u001b[?25h  Created wheel for regex: filename=regex-2017.4.5-cp37-cp37m-linux_x86_64.whl size=676773 sha256=199d34e7d3946a09b1a313bfd9e8871ef0f453d7ba5edfc5a1a0e3880199d9a9\r\n",
      "  Stored in directory: /root/.cache/pip/wheels/3d/e8/a5/d4894e7ef29935f75c6074409ce8ca80a0271f0ce2a30da5d3\r\n",
      "  Building wheel for cymem (setup.py) ... \u001b[?25l-\b \b\\\b \b|\b \bdone\r\n",
      "\u001b[?25h  Created wheel for cymem: filename=cymem-1.31.2-cp37-cp37m-linux_x86_64.whl size=94373 sha256=f267701dca3705dafbcffa0c34fd8a42447f3a30365e87ec0c53838e9e3bb424\r\n",
      "  Stored in directory: /root/.cache/pip/wheels/8c/af/67/154f848180ee65337195f1ba444704a645f5486f7bfe645c09\r\n",
      "  Building wheel for dill (setup.py) ... \u001b[?25l-\b \b\\\b \bdone\r\n",
      "\u001b[?25h  Created wheel for dill: filename=dill-0.2.9-py3-none-any.whl size=77422 sha256=95f4d071af035e7146bcbd2e3da77ffa8fe8245a0c41e0c8be44970c618876eb\r\n",
      "  Stored in directory: /root/.cache/pip/wheels/31/87/19/1fb8f037d75fdc0841c772ecdfd5fdf22f85300d25c73f66cb\r\n",
      "  Building wheel for murmurhash (setup.py) ... \u001b[?25l-\b \b\\\b \b|\b \b/\b \b-\b \bdone\r\n",
      "\u001b[?25h  Created wheel for murmurhash: filename=murmurhash-0.28.0-cp37-cp37m-linux_x86_64.whl size=51549 sha256=a4d1c797201cd9bb423b27601ec22b029c6bc3a7ed29672eb86550590156adac\r\n",
      "  Stored in directory: /root/.cache/pip/wheels/b7/c8/d5/7b7ffd0ba48aa3f5630c0153b08edf10c8400f0933ff5b477d\r\n",
      "  Building wheel for thinc (setup.py) ... \u001b[?25l-\b \b\\\b \b|\b \b/\b \b-\b \b\\\b \b|\b \b/\b \b-\b \b\\\b \b|\b \b/\b \b-\b \b\\\b \b|\b \b/\b \b-\b \b\\\b \b|\b \b/\b \b-\b \b\\\b \b|\b \b/\b \b-\b \b\\\b \b|\b \b/\b \b-\b \bdone\r\n",
      "\u001b[?25h  Created wheel for thinc: filename=thinc-6.10.3-cp37-cp37m-linux_x86_64.whl size=4956312 sha256=2789e7866f69e4d343cc13e0d683ab658bc29138a7e03fc2f73fe5fda4f2dd61\r\n",
      "  Stored in directory: /root/.cache/pip/wheels/1b/d5/ca/9fcbabcfbbc0eb4a3849af91d0889ad30d48c155f2db14fc84\r\n",
      "  Building wheel for cytoolz (setup.py) ... \u001b[?25l-\b \b\\\b \b|\b \b/\b \b-\b \b\\\b \b|\b \b/\b \b-\b \bdone\r\n",
      "\u001b[?25h  Created wheel for cytoolz: filename=cytoolz-0.9.0.1-cp37-cp37m-linux_x86_64.whl size=1667482 sha256=075c8d754c54ea946a345d79653e315942d009265aeb1a23e25ce00fb212ada0\r\n",
      "  Stored in directory: /root/.cache/pip/wheels/52/9f/8e/8d8bc15ed2c88ed4e784c603f641df40d19e8410b982766e4f\r\n",
      "  Building wheel for wrapt (setup.py) ... \u001b[?25l-\b \b\\\b \b|\b \bdone\r\n",
      "\u001b[?25h  Created wheel for wrapt: filename=wrapt-1.10.11-cp37-cp37m-linux_x86_64.whl size=72585 sha256=ffaa885d10d1c40442ad712e4d78b385346cd467a6efaed565aaf01ed09dc8f0\r\n",
      "  Stored in directory: /root/.cache/pip/wheels/b4/73/c0/df8f4b8bdfc554d2ba0823c8f80d566cabf702c858e2a49d7b\r\n",
      "Successfully built spacy regex cymem dill murmurhash thinc cytoolz wrapt\r\n",
      "Installing collected packages: msgpack, cymem, wrapt, preshed, plac, murmurhash, dill, cytoolz, thinc, regex, spacy\r\n",
      "  Attempting uninstall: msgpack\r\n",
      "    Found existing installation: msgpack 1.0.3\r\n",
      "    Uninstalling msgpack-1.0.3:\r\n",
      "      Successfully uninstalled msgpack-1.0.3\r\n",
      "  Attempting uninstall: cymem\r\n",
      "    Found existing installation: cymem 2.0.6\r\n",
      "    Uninstalling cymem-2.0.6:\r\n",
      "      Successfully uninstalled cymem-2.0.6\r\n",
      "  Attempting uninstall: wrapt\r\n",
      "    Found existing installation: wrapt 1.13.3\r\n",
      "    Uninstalling wrapt-1.13.3:\r\n",
      "      Successfully uninstalled wrapt-1.13.3\r\n",
      "  Attempting uninstall: preshed\r\n",
      "    Found existing installation: preshed 3.0.6\r\n",
      "    Uninstalling preshed-3.0.6:\r\n",
      "      Successfully uninstalled preshed-3.0.6\r\n",
      "  Attempting uninstall: murmurhash\r\n",
      "    Found existing installation: murmurhash 1.0.6\r\n",
      "    Uninstalling murmurhash-1.0.6:\r\n",
      "      Successfully uninstalled murmurhash-1.0.6\r\n",
      "  Attempting uninstall: dill\r\n",
      "    Found existing installation: dill 0.3.4\r\n",
      "    Uninstalling dill-0.3.4:\r\n",
      "      Successfully uninstalled dill-0.3.4\r\n",
      "  Attempting uninstall: cytoolz\r\n",
      "    Found existing installation: cytoolz 0.11.2\r\n",
      "    Uninstalling cytoolz-0.11.2:\r\n",
      "      Successfully uninstalled cytoolz-0.11.2\r\n",
      "  Attempting uninstall: thinc\r\n",
      "    Found existing installation: thinc 8.0.13\r\n",
      "    Uninstalling thinc-8.0.13:\r\n",
      "      Successfully uninstalled thinc-8.0.13\r\n",
      "  Attempting uninstall: regex\r\n",
      "    Found existing installation: regex 2021.11.10\r\n",
      "    Uninstalling regex-2021.11.10:\r\n",
      "      Successfully uninstalled regex-2021.11.10\r\n",
      "  Attempting uninstall: spacy\r\n",
      "    Found existing installation: spacy 3.1.4\r\n",
      "    Uninstalling spacy-3.1.4:\r\n",
      "      Successfully uninstalled spacy-3.1.4\r\n",
      "\u001b[31mERROR: pip's dependency resolver does not currently take into account all the packages that are installed. This behaviour is the source of the following dependency conflicts.\r\n",
      "tensorflow-io 0.21.0 requires tensorflow-io-gcs-filesystem==0.21.0, which is not installed.\r\n",
      "explainable-ai-sdk 1.3.2 requires xai-image-widget, which is not installed.\r\n",
      "tensorflow 2.6.2 requires six~=1.15.0, but you have six 1.16.0 which is incompatible.\r\n",
      "tensorflow 2.6.2 requires typing-extensions~=3.7.4, but you have typing-extensions 3.10.0.2 which is incompatible.\r\n",
      "tensorflow 2.6.2 requires wrapt~=1.12.1, but you have wrapt 1.10.11 which is incompatible.\r\n",
      "tensorflow-transform 1.4.0 requires absl-py<0.13,>=0.9, but you have absl-py 0.15.0 which is incompatible.\r\n",
      "tensorflow-transform 1.4.0 requires pyarrow<6,>=1, but you have pyarrow 6.0.0 which is incompatible.\r\n",
      "ray 1.8.0 requires msgpack<2.0.0,>=1.0.0, but you have msgpack 0.6.2 which is incompatible.\r\n",
      "pathos 0.2.8 requires dill>=0.3.4, but you have dill 0.2.9 which is incompatible.\r\n",
      "multiprocess 0.70.12.2 requires dill>=0.3.4, but you have dill 0.2.9 which is incompatible.\r\n",
      "en-core-web-sm 3.1.0 requires spacy<3.2.0,>=3.1.0, but you have spacy 2.0.12 which is incompatible.\r\n",
      "en-core-web-lg 3.1.0 requires spacy<3.2.0,>=3.1.0, but you have spacy 2.0.12 which is incompatible.\r\n",
      "checklist 0.0.11 requires dill>=0.3.1, but you have dill 0.2.9 which is incompatible.\r\n",
      "checklist 0.0.11 requires spacy>=2.2, but you have spacy 2.0.12 which is incompatible.\r\n",
      "black 21.10b0 requires regex>=2020.1.8, but you have regex 2017.4.5 which is incompatible.\r\n",
      "apache-beam 2.34.0 requires dill<0.3.2,>=0.3.1.1, but you have dill 0.2.9 which is incompatible.\r\n",
      "apache-beam 2.34.0 requires httplib2<0.20.0,>=0.8, but you have httplib2 0.20.2 which is incompatible.\r\n",
      "apache-beam 2.34.0 requires pyarrow<6.0.0,>=0.15.1, but you have pyarrow 6.0.0 which is incompatible.\r\n",
      "allennlp 2.8.0 requires spacy<3.2,>=2.1.0, but you have spacy 2.0.12 which is incompatible.\r\n",
      "aiobotocore 2.0.1 requires botocore<1.22.9,>=1.22.8, but you have botocore 1.23.15 which is incompatible.\u001b[0m\r\n",
      "Successfully installed cymem-1.31.2 cytoolz-0.9.0.1 dill-0.2.9 msgpack-0.6.2 murmurhash-0.28.0 plac-0.9.6 preshed-1.0.1 regex-2017.4.5 spacy-2.0.12 thinc-6.10.3 wrapt-1.12.1\r\n",
      "\u001b[33mWARNING: Running pip as the 'root' user can result in broken permissions and conflicting behaviour with the system package manager. It is recommended to use a virtual environment instead: https://pip.pypa.io/warnings/venv\u001b[0m\r\n"
     ]
    }
   ],
   "source": [
    "!pip install spacy==2.0.12"
   ]
  },
  {
   "cell_type": "code",
   "execution_count": 4,
   "id": "218f105f",
   "metadata": {
    "execution": {
     "iopub.execute_input": "2021-12-05T07:40:15.338565Z",
     "iopub.status.busy": "2021-12-05T07:40:15.332743Z",
     "iopub.status.idle": "2021-12-05T07:41:30.691607Z",
     "shell.execute_reply": "2021-12-05T07:41:30.690663Z",
     "shell.execute_reply.started": "2021-12-05T06:59:39.102595Z"
    },
    "papermill": {
     "duration": 75.459159,
     "end_time": "2021-12-05T07:41:30.691789",
     "exception": false,
     "start_time": "2021-12-05T07:40:15.232630",
     "status": "completed"
    },
    "tags": []
   },
   "outputs": [
    {
     "name": "stdout",
     "output_type": "stream",
     "text": [
      "Collecting https://github.com/huggingface/neuralcoref-models/releases/download/en_coref_md-3.0.0/en_coref_md-3.0.0.tar.gz\r\n",
      "  Downloading https://github.com/huggingface/neuralcoref-models/releases/download/en_coref_md-3.0.0/en_coref_md-3.0.0.tar.gz (161.3 MB)\r\n",
      "     |████████████████████████████████| 161.3 MB 64 kB/s              \r\n",
      "\u001b[?25h  Preparing metadata (setup.py) ... \u001b[?25l-\b \bdone\r\n",
      "\u001b[?25hRequirement already satisfied: spacy>=>=2.0.0 in /opt/conda/lib/python3.7/site-packages (from en-coref-md==3.0.0) (2.0.12)\r\n",
      "Requirement already satisfied: thinc<6.11.0,>=6.10.3 in /opt/conda/lib/python3.7/site-packages (from spacy>=>=2.0.0->en-coref-md==3.0.0) (6.10.3)\r\n",
      "Requirement already satisfied: cymem<1.32,>=1.30 in /opt/conda/lib/python3.7/site-packages (from spacy>=>=2.0.0->en-coref-md==3.0.0) (1.31.2)\r\n",
      "Requirement already satisfied: numpy>=1.7 in /opt/conda/lib/python3.7/site-packages (from spacy>=>=2.0.0->en-coref-md==3.0.0) (1.19.5)\r\n",
      "Requirement already satisfied: murmurhash<0.29,>=0.28 in /opt/conda/lib/python3.7/site-packages (from spacy>=>=2.0.0->en-coref-md==3.0.0) (0.28.0)\r\n",
      "Requirement already satisfied: ujson>=1.35 in /opt/conda/lib/python3.7/site-packages (from spacy>=>=2.0.0->en-coref-md==3.0.0) (4.2.0)\r\n",
      "Requirement already satisfied: regex==2017.4.5 in /opt/conda/lib/python3.7/site-packages (from spacy>=>=2.0.0->en-coref-md==3.0.0) (2017.4.5)\r\n",
      "Requirement already satisfied: requests<3.0.0,>=2.13.0 in /opt/conda/lib/python3.7/site-packages (from spacy>=>=2.0.0->en-coref-md==3.0.0) (2.25.1)\r\n",
      "Requirement already satisfied: preshed<2.0.0,>=1.0.0 in /opt/conda/lib/python3.7/site-packages (from spacy>=>=2.0.0->en-coref-md==3.0.0) (1.0.1)\r\n",
      "Requirement already satisfied: plac<1.0.0,>=0.9.6 in /opt/conda/lib/python3.7/site-packages (from spacy>=>=2.0.0->en-coref-md==3.0.0) (0.9.6)\r\n",
      "Requirement already satisfied: dill<0.3,>=0.2 in /opt/conda/lib/python3.7/site-packages (from spacy>=>=2.0.0->en-coref-md==3.0.0) (0.2.9)\r\n",
      "Requirement already satisfied: urllib3<1.27,>=1.21.1 in /opt/conda/lib/python3.7/site-packages (from requests<3.0.0,>=2.13.0->spacy>=>=2.0.0->en-coref-md==3.0.0) (1.26.7)\r\n",
      "Requirement already satisfied: idna<3,>=2.5 in /opt/conda/lib/python3.7/site-packages (from requests<3.0.0,>=2.13.0->spacy>=>=2.0.0->en-coref-md==3.0.0) (2.10)\r\n",
      "Requirement already satisfied: chardet<5,>=3.0.2 in /opt/conda/lib/python3.7/site-packages (from requests<3.0.0,>=2.13.0->spacy>=>=2.0.0->en-coref-md==3.0.0) (4.0.0)\r\n",
      "Requirement already satisfied: certifi>=2017.4.17 in /opt/conda/lib/python3.7/site-packages (from requests<3.0.0,>=2.13.0->spacy>=>=2.0.0->en-coref-md==3.0.0) (2021.10.8)\r\n",
      "Requirement already satisfied: msgpack<1.0.0,>=0.5.6 in /opt/conda/lib/python3.7/site-packages (from thinc<6.11.0,>=6.10.3->spacy>=>=2.0.0->en-coref-md==3.0.0) (0.6.2)\r\n",
      "Requirement already satisfied: six<2.0.0,>=1.10.0 in /opt/conda/lib/python3.7/site-packages (from thinc<6.11.0,>=6.10.3->spacy>=>=2.0.0->en-coref-md==3.0.0) (1.16.0)\r\n",
      "Requirement already satisfied: cytoolz<0.10,>=0.9.0 in /opt/conda/lib/python3.7/site-packages (from thinc<6.11.0,>=6.10.3->spacy>=>=2.0.0->en-coref-md==3.0.0) (0.9.0.1)\r\n",
      "Requirement already satisfied: tqdm<5.0.0,>=4.10.0 in /opt/conda/lib/python3.7/site-packages (from thinc<6.11.0,>=6.10.3->spacy>=>=2.0.0->en-coref-md==3.0.0) (4.62.3)\r\n",
      "Collecting wrapt<1.11.0,>=1.10.0\r\n",
      "  Using cached wrapt-1.10.11-cp37-cp37m-linux_x86_64.whl\r\n",
      "Requirement already satisfied: msgpack-numpy<1.0.0,>=0.4.1 in /opt/conda/lib/python3.7/site-packages (from thinc<6.11.0,>=6.10.3->spacy>=>=2.0.0->en-coref-md==3.0.0) (0.4.7.1)\r\n",
      "Requirement already satisfied: toolz>=0.8.0 in /opt/conda/lib/python3.7/site-packages (from cytoolz<0.10,>=0.9.0->thinc<6.11.0,>=6.10.3->spacy>=>=2.0.0->en-coref-md==3.0.0) (0.11.2)\r\n",
      "Building wheels for collected packages: en-coref-md\r\n",
      "  Building wheel for en-coref-md (setup.py) ... \u001b[?25l-\b \b\\\b \b|\b \b/\b \b-\b \b\\\b \b|\b \b/\b \b-\b \b\\\b \b|\b \b/\b \b-\b \b\\\b \b|\b \b/\b \b-\b \b\\\b \b|\b \b/\b \b-\b \b\\\b \b|\b \b/\b \b-\b \bdone\r\n",
      "\u001b[?25h  Created wheel for en-coref-md: filename=en_coref_md-3.0.0-cp37-cp37m-linux_x86_64.whl size=163902831 sha256=09f02387338c2eb59af939d3f113025985fac42569049defb2071b8af8a18551\r\n",
      "  Stored in directory: /root/.cache/pip/wheels/6b/f1/27/e43139d35a8a048aa96fcc2506ef03240f95e714ab40792ceb\r\n",
      "Successfully built en-coref-md\r\n",
      "Installing collected packages: wrapt, en-coref-md\r\n",
      "  Attempting uninstall: wrapt\r\n",
      "    Found existing installation: wrapt 1.12.1\r\n",
      "    Uninstalling wrapt-1.12.1:\r\n",
      "      Successfully uninstalled wrapt-1.12.1\r\n",
      "\u001b[31mERROR: pip's dependency resolver does not currently take into account all the packages that are installed. This behaviour is the source of the following dependency conflicts.\r\n",
      "tensorflow-io 0.21.0 requires tensorflow-io-gcs-filesystem==0.21.0, which is not installed.\r\n",
      "explainable-ai-sdk 1.3.2 requires xai-image-widget, which is not installed.\r\n",
      "tensorflow 2.6.2 requires six~=1.15.0, but you have six 1.16.0 which is incompatible.\r\n",
      "tensorflow 2.6.2 requires typing-extensions~=3.7.4, but you have typing-extensions 3.10.0.2 which is incompatible.\r\n",
      "tensorflow 2.6.2 requires wrapt~=1.12.1, but you have wrapt 1.10.11 which is incompatible.\r\n",
      "tensorflow-transform 1.4.0 requires absl-py<0.13,>=0.9, but you have absl-py 0.15.0 which is incompatible.\r\n",
      "tensorflow-transform 1.4.0 requires pyarrow<6,>=1, but you have pyarrow 6.0.0 which is incompatible.\r\n",
      "en-core-web-sm 3.1.0 requires spacy<3.2.0,>=3.1.0, but you have spacy 2.0.12 which is incompatible.\r\n",
      "en-core-web-lg 3.1.0 requires spacy<3.2.0,>=3.1.0, but you have spacy 2.0.12 which is incompatible.\r\n",
      "checklist 0.0.11 requires dill>=0.3.1, but you have dill 0.2.9 which is incompatible.\r\n",
      "checklist 0.0.11 requires spacy>=2.2, but you have spacy 2.0.12 which is incompatible.\r\n",
      "allennlp 2.8.0 requires spacy<3.2,>=2.1.0, but you have spacy 2.0.12 which is incompatible.\r\n",
      "aiobotocore 2.0.1 requires botocore<1.22.9,>=1.22.8, but you have botocore 1.23.15 which is incompatible.\u001b[0m\r\n",
      "Successfully installed en-coref-md-3.0.0 wrapt-1.10.11\r\n",
      "\u001b[33mWARNING: Running pip as the 'root' user can result in broken permissions and conflicting behaviour with the system package manager. It is recommended to use a virtual environment instead: https://pip.pypa.io/warnings/venv\u001b[0m\r\n"
     ]
    }
   ],
   "source": [
    "!pip install {MODEL_URL}"
   ]
  },
  {
   "cell_type": "code",
   "execution_count": 5,
   "id": "cdf04e0c",
   "metadata": {
    "execution": {
     "iopub.execute_input": "2021-12-05T07:41:31.068203Z",
     "iopub.status.busy": "2021-12-05T07:41:31.062725Z",
     "iopub.status.idle": "2021-12-05T07:42:00.760149Z",
     "shell.execute_reply": "2021-12-05T07:42:00.760682Z",
     "shell.execute_reply.started": "2021-12-05T07:01:16.715684Z"
    },
    "papermill": {
     "duration": 29.888891,
     "end_time": "2021-12-05T07:42:00.760918",
     "exception": false,
     "start_time": "2021-12-05T07:41:30.872027",
     "status": "completed"
    },
    "tags": []
   },
   "outputs": [
    {
     "name": "stdout",
     "output_type": "stream",
     "text": [
      "Collecting en_core_web_md==2.0.0\r\n",
      "  Downloading https://github.com/explosion/spacy-models/releases/download/en_core_web_md-2.0.0/en_core_web_md-2.0.0.tar.gz (120.8 MB)\r\n",
      "     |████████████████████████████████| 120.8 MB 3.0 MB/s            \r\n",
      "\u001b[?25h  Preparing metadata (setup.py) ... \u001b[?25l-\b \bdone\r\n",
      "\u001b[?25hBuilding wheels for collected packages: en-core-web-md\r\n",
      "  Building wheel for en-core-web-md (setup.py) ... \u001b[?25l-\b \b\\\b \b|\b \b/\b \b-\b \b\\\b \b|\b \b/\b \b-\b \b\\\b \b|\b \b/\b \b-\b \b\\\b \bdone\r\n",
      "\u001b[?25h  Created wheel for en-core-web-md: filename=en_core_web_md-2.0.0-py3-none-any.whl size=122523223 sha256=21b23ee84b9bbacbfcee788836495d8d91fef7d69ea72830c0ed0b2add665771\r\n",
      "  Stored in directory: /tmp/pip-ephem-wheel-cache-v8a2cmv3/wheels/8f/51/ba/ba8005d45add03824093cb1029ec5cafdbd9bdf84f58612d0a\r\n",
      "Successfully built en-core-web-md\r\n",
      "Installing collected packages: en-core-web-md\r\n",
      "Successfully installed en-core-web-md-2.0.0\r\n",
      "\u001b[33mWARNING: Running pip as the 'root' user can result in broken permissions and conflicting behaviour with the system package manager. It is recommended to use a virtual environment instead: https://pip.pypa.io/warnings/venv\u001b[0m\r\n",
      "\r\n",
      "\u001b[93m    Linking successful\u001b[0m\r\n",
      "    /opt/conda/lib/python3.7/site-packages/en_core_web_md -->\r\n",
      "    /opt/conda/lib/python3.7/site-packages/spacy/data/en_core_web_md\r\n",
      "\r\n",
      "    You can now load the model via spacy.load('en_core_web_md')\r\n",
      "\r\n"
     ]
    }
   ],
   "source": [
    "!python -m spacy download en_core_web_md"
   ]
  },
  {
   "cell_type": "code",
   "execution_count": 6,
   "id": "caf2720e",
   "metadata": {
    "execution": {
     "iopub.execute_input": "2021-12-05T07:42:01.249733Z",
     "iopub.status.busy": "2021-12-05T07:42:01.248740Z",
     "iopub.status.idle": "2021-12-05T07:42:31.651499Z",
     "shell.execute_reply": "2021-12-05T07:42:31.650768Z",
     "shell.execute_reply.started": "2021-12-05T07:01:56.024940Z"
    },
    "papermill": {
     "duration": 30.648145,
     "end_time": "2021-12-05T07:42:31.651663",
     "exception": false,
     "start_time": "2021-12-05T07:42:01.003518",
     "status": "completed"
    },
    "tags": []
   },
   "outputs": [],
   "source": [
    "import en_coref_md\n",
    "\n",
    "nlp = en_coref_md.load()"
   ]
  },
  {
   "cell_type": "code",
   "execution_count": 7,
   "id": "29c6acb4",
   "metadata": {
    "execution": {
     "iopub.execute_input": "2021-12-05T07:42:32.130398Z",
     "iopub.status.busy": "2021-12-05T07:42:32.127250Z",
     "iopub.status.idle": "2021-12-05T07:42:32.132615Z",
     "shell.execute_reply": "2021-12-05T07:42:32.133213Z",
     "shell.execute_reply.started": "2021-12-05T07:19:39.029937Z"
    },
    "papermill": {
     "duration": 0.247747,
     "end_time": "2021-12-05T07:42:32.133418",
     "exception": false,
     "start_time": "2021-12-05T07:42:31.885671",
     "status": "completed"
    },
    "tags": []
   },
   "outputs": [],
   "source": [
    "test_sent = \"Bhubaneswar is the capital and largest city of the Indian state of Odisha. The city is bounded by the Daya River to the south and the Kuakhai River to the east; the Chandaka Wildlife Sanctuaryand Nandankanan Zoo lie in the western and northern parts of Bhubaneswar.Bhubaneswar is categorised as a Tier-2 city.Bhubaneswar and Cuttack are often referred to as the 'twin cities of Odisha'.The city has a population of 1163000.\""
   ]
  },
  {
   "cell_type": "code",
   "execution_count": 8,
   "id": "eb5f5357",
   "metadata": {
    "execution": {
     "iopub.execute_input": "2021-12-05T07:42:32.617181Z",
     "iopub.status.busy": "2021-12-05T07:42:32.616496Z",
     "iopub.status.idle": "2021-12-05T07:42:32.720689Z",
     "shell.execute_reply": "2021-12-05T07:42:32.721699Z",
     "shell.execute_reply.started": "2021-12-05T07:19:54.726909Z"
    },
    "papermill": {
     "duration": 0.351746,
     "end_time": "2021-12-05T07:42:32.722046",
     "exception": false,
     "start_time": "2021-12-05T07:42:32.370300",
     "status": "completed"
    },
    "tags": []
   },
   "outputs": [],
   "source": [
    "doc = nlp(test_sent)"
   ]
  },
  {
   "cell_type": "code",
   "execution_count": 9,
   "id": "90e01899",
   "metadata": {
    "execution": {
     "iopub.execute_input": "2021-12-05T07:42:33.256133Z",
     "iopub.status.busy": "2021-12-05T07:42:33.255307Z",
     "iopub.status.idle": "2021-12-05T07:42:33.259615Z",
     "shell.execute_reply": "2021-12-05T07:42:33.260120Z",
     "shell.execute_reply.started": "2021-12-05T07:20:44.079507Z"
    },
    "papermill": {
     "duration": 0.245321,
     "end_time": "2021-12-05T07:42:33.260316",
     "exception": false,
     "start_time": "2021-12-05T07:42:33.014995",
     "status": "completed"
    },
    "tags": []
   },
   "outputs": [
    {
     "data": {
      "text/plain": [
       "True"
      ]
     },
     "execution_count": 9,
     "metadata": {},
     "output_type": "execute_result"
    }
   ],
   "source": [
    "doc._.has_coref"
   ]
  },
  {
   "cell_type": "code",
   "execution_count": 10,
   "id": "6fe2f18c",
   "metadata": {
    "execution": {
     "iopub.execute_input": "2021-12-05T07:42:33.736037Z",
     "iopub.status.busy": "2021-12-05T07:42:33.735221Z",
     "iopub.status.idle": "2021-12-05T07:42:33.738988Z",
     "shell.execute_reply": "2021-12-05T07:42:33.738359Z",
     "shell.execute_reply.started": "2021-12-05T07:20:45.913865Z"
    },
    "papermill": {
     "duration": 0.242785,
     "end_time": "2021-12-05T07:42:33.739162",
     "exception": false,
     "start_time": "2021-12-05T07:42:33.496377",
     "status": "completed"
    },
    "tags": []
   },
   "outputs": [
    {
     "data": {
      "text/plain": [
       "[Bhubaneswar: [Bhubaneswar, The city, Bhubaneswar, Bhubaneswar, Bhubaneswar]]"
      ]
     },
     "execution_count": 10,
     "metadata": {},
     "output_type": "execute_result"
    }
   ],
   "source": [
    "doc._.coref_clusters"
   ]
  },
  {
   "cell_type": "code",
   "execution_count": 11,
   "id": "00ad9dc0",
   "metadata": {
    "execution": {
     "iopub.execute_input": "2021-12-05T07:42:34.220149Z",
     "iopub.status.busy": "2021-12-05T07:42:34.219042Z",
     "iopub.status.idle": "2021-12-05T07:42:34.224894Z",
     "shell.execute_reply": "2021-12-05T07:42:34.225421Z",
     "shell.execute_reply.started": "2021-12-05T07:20:54.450025Z"
    },
    "papermill": {
     "duration": 0.250297,
     "end_time": "2021-12-05T07:42:34.225614",
     "exception": false,
     "start_time": "2021-12-05T07:42:33.975317",
     "status": "completed"
    },
    "tags": []
   },
   "outputs": [
    {
     "name": "stdout",
     "output_type": "stream",
     "text": [
      "Bhubaneswar\n",
      "0\n",
      "1\n",
      "The city\n",
      "14\n",
      "16\n",
      "Bhubaneswar\n",
      "47\n",
      "48\n",
      "Bhubaneswar\n",
      "49\n",
      "50\n",
      "Bhubaneswar\n",
      "57\n",
      "58\n"
     ]
    }
   ],
   "source": [
    "for cluster in doc._.coref_clusters:\n",
    "    for reference in cluster:\n",
    "    #each of these is a Span object in Spacy\n",
    "        print(reference)\n",
    "        #starting index of this reference in the text\n",
    "        print(reference.start) \n",
    "        #ending index of this reference in the text\n",
    "        print(reference.end)"
   ]
  },
  {
   "cell_type": "code",
   "execution_count": 12,
   "id": "bbb4bacc",
   "metadata": {
    "execution": {
     "iopub.execute_input": "2021-12-05T07:42:34.697601Z",
     "iopub.status.busy": "2021-12-05T07:42:34.696888Z",
     "iopub.status.idle": "2021-12-05T07:42:34.699475Z",
     "shell.execute_reply": "2021-12-05T07:42:34.699962Z",
     "shell.execute_reply.started": "2021-12-05T07:20:58.454013Z"
    },
    "papermill": {
     "duration": 0.242183,
     "end_time": "2021-12-05T07:42:34.700190",
     "exception": false,
     "start_time": "2021-12-05T07:42:34.458007",
     "status": "completed"
    },
    "tags": []
   },
   "outputs": [
    {
     "name": "stdout",
     "output_type": "stream",
     "text": [
      "Bhubaneswar is the capital and largest city of the Indian state of Odisha. Bhubaneswar is bounded by the Daya River to the south and the Kuakhai River to the east; the Chandaka Wildlife Sanctuaryand Nandankanan Zoo lie in the western and northern parts of Bhubaneswar.Bhubaneswar is categorised as a Tier-2 city.Bhubaneswar and Cuttack are often referred to as the 'twin cities of Odisha'.The city has a population of 1163000.\n"
     ]
    }
   ],
   "source": [
    "resolved_doc = doc._.coref_resolved\n",
    "print(resolved_doc)"
   ]
  },
  {
   "cell_type": "code",
   "execution_count": 13,
   "id": "b9ec98f7",
   "metadata": {
    "execution": {
     "iopub.execute_input": "2021-12-05T07:42:35.183791Z",
     "iopub.status.busy": "2021-12-05T07:42:35.182800Z",
     "iopub.status.idle": "2021-12-05T07:42:35.186700Z",
     "shell.execute_reply": "2021-12-05T07:42:35.186108Z",
     "shell.execute_reply.started": "2021-12-05T07:15:05.943602Z"
    },
    "papermill": {
     "duration": 0.251312,
     "end_time": "2021-12-05T07:42:35.186837",
     "exception": false,
     "start_time": "2021-12-05T07:42:34.935525",
     "status": "completed"
    },
    "tags": []
   },
   "outputs": [
    {
     "data": {
      "text/plain": [
       "\"Bhubaneswar is the capital and largest city of the Indian state of Odisha. The city is bounded by the Daya River to the south and the Kuakhai River to the east; the Chandaka Wildlife Sanctuaryand Nandankanan Zoo lie in the western and northern parts of Bhubaneswar.Bhubaneswar is categorised as a Tier-2 city.Bhubaneswar and Cuttack are often referred to as the 'twin cities of Odisha'.The city has a population of 1163000.\""
      ]
     },
     "execution_count": 13,
     "metadata": {},
     "output_type": "execute_result"
    }
   ],
   "source": [
    "'''Bhubaneswar is the capital and largest city of the Indian state of Odisha. The city is bounded by the Daya River to the south and the Kuakhai River to the east; the Chandaka Wildlife Sanctuaryand Nandankanan Zoo lie in the western and northern parts of Bhubaneswar.Bhubaneswar is categorised as a Tier-2 city.Bhubaneswar and Cuttack are often referred to as the 'twin cities of Odisha'.The city has a population of 1163000.'''"
   ]
  },
  {
   "cell_type": "code",
   "execution_count": null,
   "id": "c37cf242",
   "metadata": {
    "execution": {
     "iopub.execute_input": "2021-12-05T07:17:53.670350Z",
     "iopub.status.busy": "2021-12-05T07:17:53.669995Z",
     "iopub.status.idle": "2021-12-05T07:17:53.691689Z",
     "shell.execute_reply": "2021-12-05T07:17:53.690571Z",
     "shell.execute_reply.started": "2021-12-05T07:17:53.670317Z"
    },
    "papermill": {
     "duration": 0.234439,
     "end_time": "2021-12-05T07:42:35.668083",
     "exception": false,
     "start_time": "2021-12-05T07:42:35.433644",
     "status": "completed"
    },
    "tags": []
   },
   "outputs": [],
   "source": []
  },
  {
   "cell_type": "code",
   "execution_count": null,
   "id": "663820e9",
   "metadata": {
    "papermill": {
     "duration": 0.243979,
     "end_time": "2021-12-05T07:42:36.148511",
     "exception": false,
     "start_time": "2021-12-05T07:42:35.904532",
     "status": "completed"
    },
    "tags": []
   },
   "outputs": [],
   "source": []
  }
 ],
 "metadata": {
  "kernelspec": {
   "display_name": "Python 3",
   "language": "python",
   "name": "python3"
  },
  "language_info": {
   "codemirror_mode": {
    "name": "ipython",
    "version": 3
   },
   "file_extension": ".py",
   "mimetype": "text/x-python",
   "name": "python",
   "nbconvert_exporter": "python",
   "pygments_lexer": "ipython3",
   "version": "3.7.12"
  },
  "papermill": {
   "default_parameters": {},
   "duration": 626.482749,
   "end_time": "2021-12-05T07:42:37.424786",
   "environment_variables": {},
   "exception": null,
   "input_path": "__notebook__.ipynb",
   "output_path": "__notebook__.ipynb",
   "parameters": {},
   "start_time": "2021-12-05T07:32:10.942037",
   "version": "2.3.3"
  }
 },
 "nbformat": 4,
 "nbformat_minor": 5
}
